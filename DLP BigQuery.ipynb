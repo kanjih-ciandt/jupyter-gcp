{
 "cells": [
  {
   "cell_type": "markdown",
   "metadata": {},
   "source": [
    "# Example to invoke DLP to Analys a BQ Table"
   ]
  },
  {
   "cell_type": "markdown",
   "metadata": {},
   "source": [
    "#### STEP 1 -  Install package\n",
    "\n"
   ]
  },
  {
   "cell_type": "code",
   "execution_count": null,
   "metadata": {},
   "outputs": [],
   "source": [
    "!pip install google-cloud\n",
    "!pip install google-api-python-client\n",
    "!pip install oauth2client\n",
    "!pip install google-cloud-bigquery\n",
    "!pip install google-cloud-dlp"
   ]
  },
  {
   "cell_type": "markdown",
   "metadata": {},
   "source": [
    "#### STEP 2 -  Set properties"
   ]
  },
  {
   "cell_type": "code",
   "execution_count": null,
   "metadata": {},
   "outputs": [],
   "source": [
    "SERVICE_ACCOUNT='jupytersa'\n",
    "JSON_FILE_NAME = 'sa_bq.json'\n",
    "GCP_PROJECT_ID='your_project'\n",
    "DATASET_ID = 'your_dataset'\n",
    "TABLE_ID = 'your_table'"
   ]
  },
  {
   "cell_type": "markdown",
   "metadata": {},
   "source": [
    "#### STEP 3 -  Load packages and Imports"
   ]
  },
  {
   "cell_type": "code",
   "execution_count": null,
   "metadata": {},
   "outputs": [],
   "source": [
    "import logging\n",
    "import json\n",
    "import os\n",
    "import pprint\n",
    "\n",
    "from datetime import datetime\n",
    "from googleapiclient import discovery\n",
    "from google.cloud import bigquery\n",
    "from google.cloud import dlp_v2\n",
    "from oauth2client.service_account import ServiceAccountCredentials"
   ]
  },
  {
   "cell_type": "markdown",
   "metadata": {},
   "source": [
    "#### STEP 4 -  Invoke DLP"
   ]
  },
  {
   "cell_type": "code",
   "execution_count": null,
   "metadata": {},
   "outputs": [],
   "source": [
    "client_dlp = dlp_v2.DlpServiceClient.from_service_account_json(JSON_FILE_NAME)\n",
    "\n",
    "\n",
    "inspect_job_data = {\n",
    "    'storage_config': {\n",
    "        'big_query_options': {\n",
    "            'table_reference': {\n",
    "                'project_id': GCP_PROJECT_ID,\n",
    "                'dataset_id': DATASET_ID,\n",
    "                'table_id': TABLE_ID\n",
    "            },\n",
    "            'rows_limit':10000,\n",
    "            'sample_method':'RANDOM_START',\n",
    "        },\n",
    "    },\n",
    "    'inspect_config': {\n",
    "        'info_types': [\n",
    "            {'name': 'ALL_BASIC'},\n",
    "        ],\n",
    "    },\n",
    "    'actions': [\n",
    "        {\n",
    "            'save_findings': {\n",
    "                'output_config':{\n",
    "                    'table':{\n",
    "                        'project_id': GCP_PROJECT_ID,\n",
    "                        'dataset_id': DATASET_ID,\n",
    "                        'table_id': '{}_DLP'.format(TABLE_ID)\n",
    "                    }\n",
    "                }\n",
    "                \n",
    "            },\n",
    "        },\n",
    "    ]\n",
    "}\n",
    "\n",
    "operation = client_dlp.create_dlp_job(parent=client_dlp.project_path(GCP_PROJECT_ID), inspect_job=inspect_job_data)"
   ]
  },
  {
   "cell_type": "code",
   "execution_count": null,
   "metadata": {},
   "outputs": [],
   "source": [
    "xpto = client_dlp.get_dlp_job(operation.name)\n",
    "print(xpto.state)"
   ]
  },
  {
   "cell_type": "markdown",
   "metadata": {},
   "source": [
    "#### STEP 5 - Analysis Result in BQ\n",
    "\n",
    "Wait some seconds to send the analys result to BQ\n"
   ]
  },
  {
   "cell_type": "code",
   "execution_count": null,
   "metadata": {},
   "outputs": [],
   "source": [
    "client_bq = bigquery.Client.from_service_account_json(JSON_FILE_NAME)\n",
    "\n",
    "# Perform a query.\n",
    "QUERY = (\n",
    "    'WITH result AS ('\n",
    "    'SELECT'\n",
    "    ' c1.info_type.name,'\n",
    "    ' c1.likelihood,'\n",
    "    ' content_locations.record_location.record_key.big_query_key.table_reference as bq,'\n",
    "    ' content_locations.record_location.field_id as column '\n",
    "    'FROM '\n",
    "    ' `'+ GCP_PROJECT_ID +'.'+  DATASET_ID +'.'+  TABLE_ID  +'_DLP` as c1 '\n",
    "    'CROSS JOIN UNNEST(c1.location.content_locations) AS content_locations '\n",
    "    'WHERE c1.likelihood in (\\'LIKELY\\',\\'VERY_LIKELY\\'))'\n",
    "    'SELECT r.name as info_type, r.likelihood, r.bq.project_id, r.bq.dataset_id,'\n",
    "    ' r.bq.table_id, r.column.name, count(*) as count  FROM result r GROUP By 1,2,3,4,5,6 '\n",
    "    'ORDER By COUNT DESC'\n",
    ")\n",
    "query_job = client_bq.query(QUERY)  # API request\n",
    "rows = query_job.result() \n",
    "for row in rows:\n",
    "    print('RULES: {} ({}) | COLUMN: {}.{}.{}:{} | count->{}'.format\n",
    "          (row.info_type, row.likelihood, row.project_id,row.dataset_id,row.table_id,row.name, row.count))"
   ]
  }
 ],
 "metadata": {
  "kernelspec": {
   "display_name": "Python 3",
   "language": "python",
   "name": "python3"
  },
  "language_info": {
   "codemirror_mode": {
    "name": "ipython",
    "version": 3
   },
   "file_extension": ".py",
   "mimetype": "text/x-python",
   "name": "python",
   "nbconvert_exporter": "python",
   "pygments_lexer": "ipython3",
   "version": "3.7.2"
  }
 },
 "nbformat": 4,
 "nbformat_minor": 2
}
