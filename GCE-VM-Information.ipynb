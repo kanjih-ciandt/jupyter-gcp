{
 "cells": [
  {
   "cell_type": "code",
   "execution_count": null,
   "metadata": {},
   "outputs": [],
   "source": [
    "!pip install google-cloud\n",
    "!pip install google-api-python-client\n",
    "!pip install oauth2client"
   ]
  },
  {
   "cell_type": "code",
   "execution_count": null,
   "metadata": {},
   "outputs": [],
   "source": [
    "import subprocess\n",
    "import sys\n",
    "import logging\n",
    "import threading\n",
    "import pprint\n",
    "\n",
    "logger = logging.Logger('catch_all')\n",
    "\n",
    "def execute_bash(parameters):\n",
    "    try:\n",
    "        return subprocess.check_output(parameters)\n",
    "    except Exception as e: \n",
    "       logger.error(e) \n",
    "       logger.error('ERROR: Looking in jupyter console for more information')\n",
    "        \n",
    "def scan_gce(project, results_scan):\n",
    "    print('Scanning project: \"{}\"'.format(project))\n",
    "    ex = execute_bash(['gcloud','compute', 'instances', 'list', '--project', project, '--format=value(name,zone, status)'])\n",
    "    list_result_vms = []\n",
    "    if ex:\n",
    "        list_vms = ex.decode(\"utf-8\").split('\\n')\n",
    "        for vm in list_vms:\n",
    "            if vm:\n",
    "                vm_info = vm.split('\\t')\n",
    "                print('Scanning Instance: \"{}\" in project \"{}\"'.format(vm_info[0], project))\n",
    "                results_bytes = execute_bash(['gcloud', 'compute', '--project',project, \n",
    "                                        'ssh', '--zone', vm_info[1],  vm_info[0], \n",
    "                                        '--command', 'cat /etc/*-release'  ])\n",
    "                if results_bytes:\n",
    "                    results = results_bytes.decode(\"utf-8\").split('\\n')\n",
    "                    list_result_vms.append({'instance_name': vm_info[0],'result':results})\n",
    "\n",
    "\n",
    "    results_scan.append({'project':project, 'vms':list_result_vms})\n",
    "                \n",
    "\n",
    "list_projects = execute_bash(['gcloud','projects', 'list', '--format=value(projectId)']).decode(\"utf-8\").split('\\n')\n",
    "threads_project = []\n",
    "results_scan = []\n",
    "for project in list_projects :\n",
    "    t = threading.Thread(target=scan_gce, args=(project, results_scan))\n",
    "    threads_project.append(t)\n",
    "    t.start()\n",
    "    \n",
    "for t in threads_project:\n",
    "    t.join()\n",
    "\n",
    "for result in results_scan:\n",
    "    pprint.pprint(result)\n",
    "    "
   ]
  }
 ],
 "metadata": {
  "kernelspec": {
   "display_name": "Python 3",
   "language": "python",
   "name": "python3"
  },
  "language_info": {
   "codemirror_mode": {
    "name": "ipython",
    "version": 3
   },
   "file_extension": ".py",
   "mimetype": "text/x-python",
   "name": "python",
   "nbconvert_exporter": "python",
   "pygments_lexer": "ipython3",
   "version": "3.7.2"
  }
 },
 "nbformat": 4,
 "nbformat_minor": 2
}
