{
 "cells": [
  {
   "cell_type": "code",
   "execution_count": 87,
   "id": "1b90f1aa",
   "metadata": {},
   "outputs": [],
   "source": [
    "from google.cloud.sql.connector import connector\n",
    "import sqlalchemy\n",
    "import pymysql\n",
    "import datetime\n",
    "import pprint\n",
    "import random"
   ]
  },
  {
   "cell_type": "markdown",
   "id": "d9de81c9",
   "metadata": {},
   "source": [
    "**Create Config Database**"
   ]
  },
  {
   "cell_type": "code",
   "execution_count": 39,
   "id": "be662025",
   "metadata": {},
   "outputs": [],
   "source": [
    "db_config = {\n",
    "        # [START cloud_sql_mysql_sqlalchemy_limit]\n",
    "        # Pool size is the maximum number of permanent connections to keep.\n",
    "        \"pool_size\": 5,\n",
    "        # Temporarily exceeds the set pool_size if no connections are available.\n",
    "        \"max_overflow\": 2,\n",
    "        # The total number of concurrent connections for your application will be\n",
    "        # a total of pool_size and max_overflow.\n",
    "        # [END cloud_sql_mysql_sqlalchemy_limit]\n",
    "\n",
    "        # [START cloud_sql_mysql_sqlalchemy_backoff]\n",
    "        # SQLAlchemy automatically uses delays between failed connection attempts,\n",
    "        # but provides no arguments for configuration.\n",
    "        # [END cloud_sql_mysql_sqlalchemy_backoff]\n",
    "\n",
    "        # [START cloud_sql_mysql_sqlalchemy_timeout]\n",
    "        # 'pool_timeout' is the maximum number of seconds to wait when retrieving a\n",
    "        # new connection from the pool. After the specified amount of time, an\n",
    "        # exception will be thrown.\n",
    "        \"pool_timeout\": 30,  # 30 seconds\n",
    "        # [END cloud_sql_mysql_sqlalchemy_timeout]\n",
    "\n",
    "        # [START cloud_sql_mysql_sqlalchemy_lifetime]\n",
    "        # 'pool_recycle' is the maximum number of seconds a connection can persist.\n",
    "        # Connections that live longer than the specified amount of time will be\n",
    "        # reestablished\n",
    "        \"pool_recycle\": 1800,  # 30 minutes\n",
    "        # [END cloud_sql_mysql_sqlalchemy_lifetime]\n",
    "}\n",
    "\n",
    "db_user = \"root\"\n",
    "db_pass = \"EuJaEstouComSaudadeDoKanji\"\n",
    "db_name = \"cloud-sql-workshop\""
   ]
  },
  {
   "cell_type": "markdown",
   "id": "3a1350c4",
   "metadata": {},
   "source": [
    "**Connection Database** "
   ]
  },
  {
   "cell_type": "code",
   "execution_count": 118,
   "id": "2db87c7c",
   "metadata": {},
   "outputs": [],
   "source": [
    "def create_connection(ip_address):\n",
    "    # Extract port from db_host if present,\n",
    "    # otherwise use DB_PORT environment variable.\n",
    "    host_args = ip_address.split(\":\")\n",
    "    if len(host_args) == 1:\n",
    "        db_hostname = db_host\n",
    "        db_port = 3306\n",
    "    elif len(host_args) == 2:\n",
    "        db_hostname, db_port = host_args[0], int(host_args[1])\n",
    "\n",
    "    return sqlalchemy.create_engine(\n",
    "        # Equivalent URL:\n",
    "        # mysql+pymysql://<db_user>:<db_pass>@<db_host>:<db_port>/<db_name>\n",
    "        sqlalchemy.engine.url.URL.create(\n",
    "            drivername=\"mysql+pymysql\",\n",
    "            username=db_user, \n",
    "            password=db_pass, \n",
    "            host=db_hostname, \n",
    "            port=db_port,  \n",
    "            database=db_name,\n",
    "        ),\n",
    "        **db_config\n",
    "    )\n",
    "\n",
    "master = create_connection(\"10.77.0.2\")\n",
    "replica1 = create_connection(\"10.77.0.6\")\n",
    "replica2 = create_connection(\"10.77.1.3\")"
   ]
  },
  {
   "cell_type": "markdown",
   "id": "da161b1a",
   "metadata": {},
   "source": [
    "**Create TABLE**"
   ]
  },
  {
   "cell_type": "code",
   "execution_count": 49,
   "id": "389a7424",
   "metadata": {},
   "outputs": [],
   "source": [
    "with master.connect() as conn:\n",
    "        conn.execute(\n",
    "            \"CREATE TABLE IF NOT EXISTS votes \"\n",
    "            \"( vote_id SERIAL NOT NULL, time_cast timestamp NOT NULL, \"\n",
    "            \"candidate CHAR(6) NOT NULL, PRIMARY KEY (vote_id) );\"\n",
    "        )\n"
   ]
  },
  {
   "cell_type": "markdown",
   "id": "96e80cd2",
   "metadata": {},
   "source": [
    "**INSERT** "
   ]
  },
  {
   "cell_type": "code",
   "execution_count": 102,
   "id": "68b373a5",
   "metadata": {},
   "outputs": [],
   "source": [
    "# Get the team and time the vote was cast.\n",
    "def insert_data(team, pool):\n",
    "    time_cast = datetime.datetime.now(tz=datetime.timezone.utc)\n",
    "\n",
    "    stmt = sqlalchemy.text(\n",
    "            \"INSERT INTO votes (time_cast, candidate)\" \" VALUES (:time_cast, :candidate)\"\n",
    "    )\n",
    "\n",
    "    with pool.connect() as conn:\n",
    "            conn.execute(stmt, time_cast=time_cast, candidate=team)"
   ]
  },
  {
   "cell_type": "markdown",
   "id": "f6f97dd5",
   "metadata": {},
   "source": [
    "**GET DATA**"
   ]
  },
  {
   "cell_type": "code",
   "execution_count": 65,
   "id": "a15c587a",
   "metadata": {},
   "outputs": [],
   "source": [
    "def get_data(pool):\n",
    "    votes = []\n",
    "    with pool.connect() as conn:\n",
    "        # Execute the query and fetch all results\n",
    "        recent_votes = conn.execute(\n",
    "            \"SELECT candidate, time_cast FROM votes \" \"ORDER BY time_cast DESC LIMIT 5\"\n",
    "        ).fetchall()\n",
    "        # Convert the results into a list of dicts representing votes\n",
    "        for row in recent_votes:\n",
    "            votes.append({\"candidate\": row[0], \"time_cast\": row[1]})\n",
    "\n",
    "        stmt = sqlalchemy.text(\n",
    "            \"SELECT COUNT(vote_id) FROM votes WHERE candidate=:candidate\"\n",
    "        )\n",
    "        # Count number of votes for tabs\n",
    "        team_a_result = conn.execute(stmt, candidate=\"A\").fetchone()\n",
    "        team_a_count = team_a_result[0]\n",
    "        # Count number of votes for spaces\n",
    "        team_b_result = conn.execute(stmt, candidate=\"B\").fetchone()\n",
    "        team_b_count = team_b_result[0]\n",
    "    return {\n",
    "        'recent_votes': votes,\n",
    "        'team A': team_a_count,\n",
    "        'team B': team_b_count,\n",
    "    }"
   ]
  },
  {
   "cell_type": "code",
   "execution_count": 127,
   "id": "b92b6432",
   "metadata": {},
   "outputs": [
    {
     "name": "stdout",
     "output_type": "stream",
     "text": [
      "{'recent_votes': [{'candidate': 'A',\n",
      "                   'time_cast': datetime.datetime(2021, 11, 17, 5, 52, 10)},\n",
      "                  {'candidate': 'A',\n",
      "                   'time_cast': datetime.datetime(2021, 11, 17, 5, 52, 10)},\n",
      "                  {'candidate': 'A',\n",
      "                   'time_cast': datetime.datetime(2021, 11, 17, 5, 52, 10)},\n",
      "                  {'candidate': 'B',\n",
      "                   'time_cast': datetime.datetime(2021, 11, 17, 5, 52, 10)},\n",
      "                  {'candidate': 'A',\n",
      "                   'time_cast': datetime.datetime(2021, 11, 17, 5, 52, 10)}],\n",
      " 'team A': 2470,\n",
      " 'team B': 2557}\n",
      "{'recent_votes': [{'candidate': 'A',\n",
      "                   'time_cast': datetime.datetime(2021, 11, 17, 5, 52, 10)},\n",
      "                  {'candidate': 'A',\n",
      "                   'time_cast': datetime.datetime(2021, 11, 17, 5, 52, 10)},\n",
      "                  {'candidate': 'A',\n",
      "                   'time_cast': datetime.datetime(2021, 11, 17, 5, 52, 10)},\n",
      "                  {'candidate': 'B',\n",
      "                   'time_cast': datetime.datetime(2021, 11, 17, 5, 52, 10)},\n",
      "                  {'candidate': 'A',\n",
      "                   'time_cast': datetime.datetime(2021, 11, 17, 5, 52, 10)}],\n",
      " 'team A': 2470,\n",
      " 'team B': 2557}\n",
      "{'recent_votes': [{'candidate': 'A',\n",
      "                   'time_cast': datetime.datetime(2021, 11, 17, 5, 52, 10)},\n",
      "                  {'candidate': 'A',\n",
      "                   'time_cast': datetime.datetime(2021, 11, 17, 5, 52, 10)},\n",
      "                  {'candidate': 'A',\n",
      "                   'time_cast': datetime.datetime(2021, 11, 17, 5, 52, 10)},\n",
      "                  {'candidate': 'B',\n",
      "                   'time_cast': datetime.datetime(2021, 11, 17, 5, 52, 10)},\n",
      "                  {'candidate': 'A',\n",
      "                   'time_cast': datetime.datetime(2021, 11, 17, 5, 52, 10)}],\n",
      " 'team A': 2470,\n",
      " 'team B': 2557}\n"
     ]
    }
   ],
   "source": [
    "for x in range(500):\n",
    "    try:\n",
    "        insert_data(\"A\" if bool(random.getrandbits(1)) else \"B\", master)\n",
    "    except Exception:\n",
    "        print(\"Error insert Master\")\n",
    "        master = create_connection(\"10.77.0.2\")\n",
    "\n",
    "try:\n",
    "    pprint.pprint(get_data(master))\n",
    "except Exception:\n",
    "    print(\"Error Read Master\")\n",
    "    master = create_connection(\"10.77.0.2\")\n",
    "    \n",
    "try:\n",
    "    pprint.pprint(get_data(replica1))\n",
    "except Exception:\n",
    "    print(\"Error Read Replica 1\")\n",
    "    replica1 = create_connection(\"10.77.0.6\")\n",
    "    \n",
    "try:\n",
    "    pprint.pprint(get_data(replica2))\n",
    "except Exception:\n",
    "    print(\"Error Read Replica 2\")\n",
    "    replica2 = create_connection(\"10.77.1.3\")\n",
    "\n"
   ]
  },
  {
   "cell_type": "code",
   "execution_count": null,
   "id": "a0c88055",
   "metadata": {},
   "outputs": [],
   "source": []
  },
  {
   "cell_type": "code",
   "execution_count": null,
   "id": "f240ce59",
   "metadata": {},
   "outputs": [],
   "source": []
  }
 ],
 "metadata": {
  "kernelspec": {
   "display_name": "Python 3 (ipykernel)",
   "language": "python",
   "name": "python3"
  },
  "language_info": {
   "codemirror_mode": {
    "name": "ipython",
    "version": 3
   },
   "file_extension": ".py",
   "mimetype": "text/x-python",
   "name": "python",
   "nbconvert_exporter": "python",
   "pygments_lexer": "ipython3",
   "version": "3.7.3"
  }
 },
 "nbformat": 4,
 "nbformat_minor": 5
}
