{
 "cells": [
  {
   "cell_type": "markdown",
   "id": "7590ed3f",
   "metadata": {},
   "source": [
    "Reference: https://cloud.google.com/iam/docs/quickstart-client-libraries#client-libraries-install-python"
   ]
  },
  {
   "cell_type": "markdown",
   "id": "f684fff1",
   "metadata": {},
   "source": [
    "#### STEP 1 -  Install package"
   ]
  },
  {
   "cell_type": "code",
   "execution_count": null,
   "id": "84699556",
   "metadata": {},
   "outputs": [],
   "source": [
    "!pip install google-cloud\n",
    "!pip install google-api-python-client\n",
    "!pip install oauth2client\n",
    "!pip install google-cloud-iam"
   ]
  },
  {
   "cell_type": "markdown",
   "id": "8600c0ff",
   "metadata": {},
   "source": [
    "#### STEP 2 -  Set properties"
   ]
  },
  {
   "cell_type": "code",
   "execution_count": null,
   "id": "d58a576c",
   "metadata": {},
   "outputs": [],
   "source": [
    "SERVICE_ACCOUNT='jupytersa'\n",
    "JSON_FILE_NAME = 'sa_iam.json'\n",
    "GCP_PROJECT_ID='your_project'\n",
    "VERSION = 3"
   ]
  },
  {
   "cell_type": "markdown",
   "id": "73465656",
   "metadata": {},
   "source": [
    "#### STEP 3 -  Load packages and Imports"
   ]
  },
  {
   "cell_type": "code",
   "execution_count": null,
   "id": "db5a438f",
   "metadata": {},
   "outputs": [],
   "source": [
    "import os\n",
    "import json\n",
    "\n",
    "from google.oauth2 import service_account\n",
    "import googleapiclient.discovery\n"
   ]
  },
  {
   "cell_type": "markdown",
   "id": "da51343d",
   "metadata": {},
   "source": [
    "#### STEP 4 -  Load API"
   ]
  },
  {
   "cell_type": "code",
   "execution_count": null,
   "id": "f7ab07dd",
   "metadata": {},
   "outputs": [],
   "source": [
    "credentials = service_account.Credentials.from_service_account_file(JSON_FILE_NAME)\n",
    "\n",
    "crm_service = googleapiclient.discovery.build(\n",
    "        \"cloudresourcemanager\", \"v1\", credentials=credentials\n",
    ")\n",
    "\n"
   ]
  },
  {
   "cell_type": "markdown",
   "id": "dcb84dec",
   "metadata": {},
   "source": [
    "#### GET/SET POLICY"
   ]
  },
  {
   "cell_type": "code",
   "execution_count": null,
   "id": "50f06b9a",
   "metadata": {},
   "outputs": [],
   "source": [
    "def get_policy(crm_service, project_id, version):\n",
    "    policy = (\n",
    "            crm_service.projects()\n",
    "            .getIamPolicy(\n",
    "                resource=project_id,\n",
    "                body={\"options\": {\"requestedPolicyVersion\": version}},\n",
    "            )\n",
    "            .execute()\n",
    "    )\n",
    "    return policy\n",
    "\n",
    "def set_policy(crm_service, project_id, policy):\n",
    "    \"\"\"Sets IAM policy for a project.\"\"\"\n",
    "\n",
    "    policy = (\n",
    "        crm_service.projects()\n",
    "        .setIamPolicy(resource=project_id, body={\"policy\": policy})\n",
    "        .execute()\n",
    "    )\n",
    "    return policy\n",
    "\n"
   ]
  },
  {
   "cell_type": "markdown",
   "id": "4b4f2a5f",
   "metadata": {},
   "source": [
    "#### TESTING GET POLICY"
   ]
  },
  {
   "cell_type": "code",
   "execution_count": null,
   "id": "cc0ebf6b",
   "metadata": {},
   "outputs": [],
   "source": [
    "print(json.dumps(get_policy(crm_service, GCP_PROJECT_ID, VERSION),  indent=1))"
   ]
  },
  {
   "cell_type": "markdown",
   "id": "17427602",
   "metadata": {},
   "source": [
    "#### TESTING ADD POLICY"
   ]
  },
  {
   "cell_type": "code",
   "execution_count": null,
   "id": "a51c6533",
   "metadata": {},
   "outputs": [],
   "source": [
    "# Role to be granted.\n",
    "role = \"roles/logging.logWriter\"\n",
    "# TODO: Replace with the ID of your member in the form 'user:member@example.com'.\n",
    "member = \"user:member@example.com\"\n",
    "\n",
    "\n",
    "policy = get_policy(crm_service, GCP_PROJECT_ID, VERSION)\n",
    "\n",
    "binding = None\n",
    "for b in policy[\"bindings\"]:\n",
    "    if b[\"role\"] == role:\n",
    "        binding = b\n",
    "        break\n",
    "if binding is not None:\n",
    "    binding[\"members\"].append(member)\n",
    "else:\n",
    "    binding = {\"role\": role, \"members\": [member]}\n",
    "    policy[\"bindings\"].append(binding)\n",
    "\n",
    "set_policy(crm_service, GCP_PROJECT_ID, policy)\n",
    "\n"
   ]
  },
  {
   "cell_type": "markdown",
   "id": "004fe152",
   "metadata": {},
   "source": [
    "#### TESTING REMOVE POLICY"
   ]
  },
  {
   "cell_type": "code",
   "execution_count": null,
   "id": "1287d4fe",
   "metadata": {},
   "outputs": [],
   "source": [
    "# Role to be granted.\n",
    "role = \"roles/logging.logWriter\"\n",
    "# TODO: Replace with the ID of your member in the form 'user:member@example.com'.\n",
    "member = \"user:member@example.com\"\n",
    "\n",
    "\n",
    "policy = get_policy(crm_service, GCP_PROJECT_ID, VERSION)\n",
    "\n",
    "binding = next(b for b in policy[\"bindings\"] if b[\"role\"] == role)\n",
    "if \"members\" in binding and member in binding[\"members\"]:\n",
    "    binding[\"members\"].remove(member)\n",
    "\n",
    "set_policy(crm_service, GCP_PROJECT_ID, policy)\n",
    "\n",
    "\n"
   ]
  },
  {
   "cell_type": "code",
   "execution_count": null,
   "id": "5d1538fb",
   "metadata": {},
   "outputs": [],
   "source": []
  }
 ],
 "metadata": {
  "kernelspec": {
   "display_name": "Python 3",
   "language": "python",
   "name": "python3"
  },
  "language_info": {
   "codemirror_mode": {
    "name": "ipython",
    "version": 3
   },
   "file_extension": ".py",
   "mimetype": "text/x-python",
   "name": "python",
   "nbconvert_exporter": "python",
   "pygments_lexer": "ipython3",
   "version": "3.9.6"
  }
 },
 "nbformat": 4,
 "nbformat_minor": 5
}
