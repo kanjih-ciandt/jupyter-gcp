{
 "cells": [
  {
   "cell_type": "code",
   "execution_count": null,
   "id": "1b90f1aa",
   "metadata": {},
   "outputs": [],
   "source": [
    "import os\n",
    "import redis\n",
    "import json\n",
    "from pymemcache.client import base"
   ]
  },
  {
   "cell_type": "markdown",
   "id": "d9de81c9",
   "metadata": {},
   "source": [
    "**Create Config Database**"
   ]
  },
  {
   "cell_type": "code",
   "execution_count": null,
   "id": "a0c88055",
   "metadata": {},
   "outputs": [],
   "source": [
    "redis_host = \"10.77.2.4\"\n",
    "redis_port = 6379\n",
    "redis_client = redis.StrictRedis(host=redis_host, port=redis_port)\n",
    "\n",
    "memcache_host = \"10.77.2.69\"\n",
    "memcache_port = 11211\n",
    "memcache_client = base.Client(('10.77.2.69', 11211))\n",
    "\n",
    "def set_vote_redis(team, votes):\n",
    "    redis_client.set(team, votes)\n",
    "\n",
    "def get_vote_redis(team):\n",
    "    return redis_client.get(team)\n",
    "\n",
    "def set_vote_memcache(team, votes):\n",
    "    memcache_client.set(team, votes)\n",
    "\n",
    "def get_vote_memcache(team):\n",
    "    return memcache_client.get(team)"
   ]
  },
  {
   "cell_type": "code",
   "execution_count": null,
   "id": "f240ce59",
   "metadata": {},
   "outputs": [],
   "source": [
    "set_vote_redis('team-a', 700)\n",
    "team_a = get_vote_redis('team-a')\n",
    "print(team_a.decode())"
   ]
  },
  {
   "cell_type": "code",
   "execution_count": null,
   "id": "a55ac8dc",
   "metadata": {},
   "outputs": [],
   "source": [
    "set_vote_memcache('team-a', 500)\n",
    "team_a = get_vote_memcache('team-a')\n",
    "print(team_a.decode())"
   ]
  },
  {
   "cell_type": "code",
   "execution_count": null,
   "id": "a83aae96",
   "metadata": {},
   "outputs": [],
   "source": [
    "print(memcache_client.get('team-a').decode())\n",
    "print(redis_client.get('team-a').decode())"
   ]
  }
 ],
 "metadata": {
  "kernelspec": {
   "display_name": "Python 3 (ipykernel)",
   "language": "python",
   "name": "python3"
  },
  "language_info": {
   "codemirror_mode": {
    "name": "ipython",
    "version": 3
   },
   "file_extension": ".py",
   "mimetype": "text/x-python",
   "name": "python",
   "nbconvert_exporter": "python",
   "pygments_lexer": "ipython3",
   "version": "3.7.3"
  }
 },
 "nbformat": 4,
 "nbformat_minor": 5
}
