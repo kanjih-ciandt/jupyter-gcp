{
 "cells": [
  {
   "cell_type": "code",
   "execution_count": null,
   "id": "1b90f1aa",
   "metadata": {},
   "outputs": [],
   "source": [
    "import os\n",
    "import redis"
   ]
  },
  {
   "cell_type": "markdown",
   "id": "d9de81c9",
   "metadata": {},
   "source": [
    "**Create Config Database**"
   ]
  },
  {
   "cell_type": "code",
   "execution_count": null,
   "id": "a0c88055",
   "metadata": {},
   "outputs": [],
   "source": [
    "redis_host = os.environ.get('REDISHOST', '10.77.2.4:6379')\n",
    "redis_port = int(os.environ.get('REDISPORT', 6379))\n",
    "redis_client = redis.StrictRedis(host=redis_host, port=redis_port)\n",
    "\n",
    "\n",
    "def visit_count(request):\n",
    "    value = redis_client.incr('visits', 1)\n",
    "    return 'Visit count: {}'.format(value)\n"
   ]
  },
  {
   "cell_type": "code",
   "execution_count": null,
   "id": "f240ce59",
   "metadata": {},
   "outputs": [],
   "source": [
    "visit_count('get')"
   ]
  },
  {
   "cell_type": "code",
   "execution_count": null,
   "id": "a55ac8dc",
   "metadata": {},
   "outputs": [],
   "source": []
  }
 ],
 "metadata": {
  "kernelspec": {
   "display_name": "Python 3 (ipykernel)",
   "language": "python",
   "name": "python3"
  },
  "language_info": {
   "codemirror_mode": {
    "name": "ipython",
    "version": 3
   },
   "file_extension": ".py",
   "mimetype": "text/x-python",
   "name": "python",
   "nbconvert_exporter": "python",
   "pygments_lexer": "ipython3",
   "version": "3.7.3"
  }
 },
 "nbformat": 4,
 "nbformat_minor": 5
}
